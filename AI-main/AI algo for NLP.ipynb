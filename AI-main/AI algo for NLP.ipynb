{
 "cells": [
  {
   "cell_type": "code",
   "execution_count": 12,
   "id": "a4f27e47",
   "metadata": {},
   "outputs": [
    {
     "name": "stdout",
     "output_type": "stream",
     "text": [
      "\n",
      "Tokenized Texts:\n",
      "[['AI', 'is', 'transforming', 'the', 'world', 'of', 'technology', '.'], ['Football', 'is', 'a', 'popular', 'sport', 'worldwide', '.'], ['Politics', 'can', 'be', 'very', 'complex', 'and', 'divisive', '.'], ['Python', 'is', 'a', 'powerful', 'programming', 'language', '.']]\n",
      "\n",
      "Predicted Category for Test Text:\n",
      "technology\n"
     ]
    }
   ],
   "source": [
    "import nltk\n",
    "from sklearn.feature_extraction.text import TfidfVectorizer\n",
    "from sklearn.naive_bayes import MultinomialNB\n",
    "\n",
    "# Download necessary NLTK data\n",
    "#nltk.download(\"punkt\")\n",
    "\n",
    "# Sample Text Data\n",
    "texts = [\n",
    "    \"AI is transforming the world of technology.\",\n",
    "    \"Football is a popular sport worldwide.\",\n",
    "    \"Politics can be very complex and divisive.\",\n",
    "    \"Python is a powerful programming language.\"\n",
    "]\n",
    "\n",
    "categories = [\"technology\", \"sports\", \"politics\", \"technology\"]\n",
    "\n",
    "# **1. Tokenization (Lightweight NLP)**\n",
    "tokens = [nltk.word_tokenize(text) for text in texts]\n",
    "print(\"\\nTokenized Texts:\")\n",
    "print(tokens)\n",
    "\n",
    "# **2. Text Classification using Naïve Bayes (Lightweight AI)**\n",
    "vectorizer = TfidfVectorizer()\n",
    "X = vectorizer.fit_transform(texts)\n",
    "\n",
    "# Train simple Naïve Bayes model\n",
    "classifier = MultinomialNB()\n",
    "classifier.fit(X, categories)\n",
    "\n",
    "# **Test Prediction**\n",
    "test_text = [\"Machine learning is an innovative field of AI.\"]\n",
    "test_X = vectorizer.transform(test_text)\n",
    "predicted_category = classifier.predict(test_X)\n",
    "\n",
    "print(\"\\nPredicted Category for Test Text:\")\n",
    "print(predicted_category[0])"
   ]
  },
  {
   "cell_type": "code",
   "execution_count": 13,
   "id": "d64a5ee3",
   "metadata": {},
   "outputs": [
    {
     "name": "stdout",
     "output_type": "stream",
     "text": [
      "\n",
      "Predicted Category for Test Text:\n",
      "technology\n"
     ]
    }
   ],
   "source": [
    "test_text = [\"The president announced new economic policies affecting global trade.\"]\n",
    "test_X = vectorizer.transform(test_text)\n",
    "predicted_category = classifier.predict(test_X)\n",
    "\n",
    "print(\"\\nPredicted Category for Test Text:\")\n",
    "print(predicted_category[0])"
   ]
  },
  {
   "cell_type": "code",
   "execution_count": 14,
   "id": "4f043065",
   "metadata": {},
   "outputs": [
    {
     "name": "stdout",
     "output_type": "stream",
     "text": [
      "\n",
      "Predicted Category for Test Text:\n",
      "politics\n"
     ]
    }
   ],
   "source": [
    "texts += [\n",
    "    \"The government passed a new economic bill to boost trade.\",\n",
    "    \"Election campaigns are in full swing with candidates debating policies.\",\n",
    "    \"A new law has been introduced to regulate social media platforms.\"\n",
    "]\n",
    "\n",
    "categories += [\"politics\", \"politics\", \"politics\"]  # Assign categories\n",
    "\n",
    "# Re-train classifier with updated data\n",
    "X = vectorizer.fit_transform(texts)\n",
    "classifier.fit(X, categories)\n",
    "\n",
    "# Test Again\n",
    "test_text = [\"The president announced new economic policies affecting global trade.\"]\n",
    "test_X = vectorizer.transform(test_text)\n",
    "predicted_category = classifier.predict(test_X)\n",
    "\n",
    "print(\"\\nPredicted Category for Test Text:\")\n",
    "print(predicted_category[0])  # Should now predict \"politics\""
   ]
  },
  {
   "cell_type": "code",
   "execution_count": null,
   "id": "e1469428",
   "metadata": {},
   "outputs": [],
   "source": []
  }
 ],
 "metadata": {
  "kernelspec": {
   "display_name": "base",
   "language": "python",
   "name": "python3"
  },
  "language_info": {
   "codemirror_mode": {
    "name": "ipython",
    "version": 3
   },
   "file_extension": ".py",
   "mimetype": "text/x-python",
   "name": "python",
   "nbconvert_exporter": "python",
   "pygments_lexer": "ipython3",
   "version": "3.12.7"
  }
 },
 "nbformat": 4,
 "nbformat_minor": 5
}
