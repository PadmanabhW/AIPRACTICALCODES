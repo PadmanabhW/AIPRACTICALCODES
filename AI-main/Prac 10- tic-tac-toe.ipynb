{
 "cells": [
  {
   "cell_type": "code",
   "execution_count": 4,
   "id": "08c0ad22",
   "metadata": {},
   "outputs": [
    {
     "name": "stdout",
     "output_type": "stream",
     "text": [
      "  |   |  \n",
      "  |   |  \n",
      "  |   |  \n",
      "---------\n",
      "X |   |  \n",
      "  |   |  \n",
      "  |   |  \n",
      "---------\n",
      "X |   |  \n",
      "  | O |  \n",
      "  |   |  \n",
      "---------\n",
      "X | X |  \n",
      "  | O |  \n",
      "  |   |  \n",
      "---------\n",
      "X | X |  \n",
      "O | O |  \n",
      "  |   |  \n",
      "---------\n",
      "X | X | X\n",
      "O | O |  \n",
      "  |   |  \n",
      "---------\n",
      "X | X | X\n",
      "O | O | O\n",
      "  |   |  \n",
      "---------\n",
      "Player X wins!\n"
     ]
    }
   ],
   "source": [
    "def print_board(b): \n",
    "    print(\"\\n\".join([\" | \".join(row) for row in b]) + \"\\n\" + \"-\" * 9)\n",
    "\n",
    "def check_winner(b): \n",
    "    for i in range(3): \n",
    "        if b[i][0] == b[i][1] == b[i][2] != \" \" or b[0][i] == b[1][i] == b[2][i] != \" \": \n",
    "            return b[i][i]\n",
    "    if b[0][0] == b[1][1] == b[2][2] != \" \" or b[0][2] == b[1][1] == b[2][0] != \" \":\n",
    "        return b[1][1]\n",
    "    return None\n",
    "\n",
    "def is_draw(b): \n",
    "    return all(cell != \" \" for row in b for cell in row)\n",
    "\n",
    "def tic_tac_toe():\n",
    "    b, p = [[\" \"] * 3 for _ in range(3)], \"X\"\n",
    "    while True:\n",
    "        print_board(b)\n",
    "        try: \n",
    "            r, c = map(int, input(f\"Player {p}, enter row and column (0-2): \").split())\n",
    "        except ValueError: \n",
    "            print(\"Invalid input! Enter two numbers between 0 and 2.\"); continue\n",
    "        if not (0 <= r < 3 and 0 <= c < 3) or b[r][c] != \" \": \n",
    "            print(\"Invalid move! Try again.\"); continue\n",
    "        b[r][c], winner = p, check_winner(b)\n",
    "        if winner: \n",
    "            print_board(b); print(f\"Player {winner} wins!\"); break\n",
    "        if is_draw(b): \n",
    "            print_board(b); print(\"It's a draw!\"); break\n",
    "        p = \"O\" if p == \"X\" else \"X\"\n",
    "\n",
    "if __name__ == \"__main__\": \n",
    "    tic_tac_toe()"
   ]
  },
  {
   "cell_type": "code",
   "execution_count": null,
   "id": "7c038125",
   "metadata": {},
   "outputs": [],
   "source": []
  }
 ],
 "metadata": {
  "kernelspec": {
   "display_name": "Python 3 (ipykernel)",
   "language": "python",
   "name": "python3"
  },
  "language_info": {
   "codemirror_mode": {
    "name": "ipython",
    "version": 3
   },
   "file_extension": ".py",
   "mimetype": "text/x-python",
   "name": "python",
   "nbconvert_exporter": "python",
   "pygments_lexer": "ipython3",
   "version": "3.12.7"
  }
 },
 "nbformat": 4,
 "nbformat_minor": 5
}
