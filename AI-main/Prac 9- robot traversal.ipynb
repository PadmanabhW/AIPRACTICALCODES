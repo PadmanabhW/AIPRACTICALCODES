{
 "cells": [
  {
   "cell_type": "code",
   "execution_count": 21,
   "id": "bd01a040",
   "metadata": {},
   "outputs": [
    {
     "name": "stdout",
     "output_type": "stream",
     "text": [
      "Perceptron Accuracy: 0.50\n",
      "MLP Model Accuracy: 0.50\n",
      "Predicted Movement: Right\n"
     ]
    }
   ],
   "source": [
    "import numpy as np\n",
    "from sklearn.linear_model import Perceptron\n",
    "from sklearn.neural_network import MLPClassifier\n",
    "from sklearn.model_selection import train_test_split\n",
    "from sklearn.preprocessing import StandardScaler\n",
    "\n",
    "# Sample Data: [Obstacle_Left, Obstacle_Right, Obstacle_Up, Obstacle_Down] => Movement Label\n",
    "X = np.array([\n",
    "    [0, 1, 0, 1],  # Move Left\n",
    "    [1, 0, 1, 0],  # Move Right\n",
    "    [0, 0, 1, 0],  # Move Up\n",
    "    [0, 0, 0, 1],  # Move Down\n",
    "    [1, 1, 0, 0],  # Move Up\n",
    "    [0, 1, 1, 0],  # Move Left\n",
    "    [1, 0, 0, 1],  # Move Right\n",
    "    [1, 1, 1, 0],  # Move Up\n",
    "    [0, 1, 0, 0],  # Move Left\n",
    "    [1, 0, 0, 0],  # Move Right,\n",
    "    [0, 0, 0, 0],  # No obstacles, Move Up\n",
    "    [1, 1, 1, 1],  # Surrounded by obstacles, Move Down\n",
    "])\n",
    "\n",
    "# Movement Labels: 0 = Left, 1 = Right, 2 = Up, 3 = Down\n",
    "y = np.array([0, 1, 2, 3, 2, 0, 1, 2, 0, 1, 2, 3])\n",
    "\n",
    "# Split dataset\n",
    "X_train, X_test, y_train, y_test = train_test_split(X, y, test_size=0.3, random_state=42)\n",
    "\n",
    "# Normalize the data\n",
    "scaler = StandardScaler()\n",
    "X_train = scaler.fit_transform(X_train)\n",
    "X_test = scaler.transform(X_test)\n",
    "\n",
    "# Perceptron Model\n",
    "perceptron = Perceptron(max_iter=1000, tol=1e-3)\n",
    "perceptron.fit(X_train, y_train)\n",
    "print(f\"Perceptron Accuracy: {perceptron.score(X_test, y_test):.2f}\")\n",
    "\n",
    "# Multi-Layer Perceptron Model for multi-category classification\n",
    "mlp = MLPClassifier(hidden_layer_sizes=(10, 10), activation='relu', solver='adam', max_iter=5000, random_state=42)\n",
    "mlp.fit(X_train, y_train)\n",
    "print(f\"MLP Model Accuracy: {mlp.score(X_test, y_test):.2f}\")\n",
    "\n",
    "# Sample Prediction\n",
    "test_sample = np.array([[1, 0, 0, 1]])  # Example Input\n",
    "test_sample = scaler.transform(test_sample)  # Normalize the input\n",
    "predicted_move = mlp.predict(test_sample)\n",
    "move_dict = {0: \"Left\", 1: \"Right\", 2: \"Up\", 3: \"Down\"}\n",
    "print(f\"Predicted Movement: {move_dict[predicted_move[0]]}\")"
   ]
  },
  {
   "cell_type": "code",
   "execution_count": null,
   "id": "91d367d8",
   "metadata": {},
   "outputs": [],
   "source": []
  }
 ],
 "metadata": {
  "kernelspec": {
   "display_name": "Python 3 (ipykernel)",
   "language": "python",
   "name": "python3"
  },
  "language_info": {
   "codemirror_mode": {
    "name": "ipython",
    "version": 3
   },
   "file_extension": ".py",
   "mimetype": "text/x-python",
   "name": "python",
   "nbconvert_exporter": "python",
   "pygments_lexer": "ipython3",
   "version": "3.12.7"
  }
 },
 "nbformat": 4,
 "nbformat_minor": 5
}
